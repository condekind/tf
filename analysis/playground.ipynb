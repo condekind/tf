{
 "cells": [
  {
   "cell_type": "code",
   "execution_count": null,
   "metadata": {},
   "outputs": [],
   "source": [
    "import re\n",
    "import json\n",
    "#from copy import copy      # used to save plots. watch your memory.\n",
    "#from pprint import pprint  # pretty iterables\n",
    "\n",
    "import pandas as pd\n",
    "import numpy as np\n",
    "\n",
    "import matplotlib.pyplot as plt\n",
    "\n",
    "from sklearn import linear_model\n",
    "from sklearn.metrics import explained_variance_score, mean_absolute_error, mean_squared_error, r2_score\n",
    "\n",
    "plt.rcParams['axes.labelsize']  = 20\n",
    "plt.rcParams['axes.titlesize']  = 26\n",
    "plt.rcParams['font.family']='monospace'\n",
    "plt.rcParams['font.size']       = 22\n",
    "plt.rcParams['legend.fontsize'] = 22\n",
    "plt.rcParams['xtick.labelsize'] = 20\n",
    "plt.rcParams['ytick.labelsize'] = 20\n",
    "plt.rcParams['lines.linewidth'] = 4"
   ]
  },
  {
   "cell_type": "code",
   "execution_count": null,
   "metadata": {},
   "outputs": [],
   "source": [
    "# json load\n",
    "with open(\"data/stats_all.json\", \"r+\") as finput:\n",
    "    j = json.load(finput)\n",
    "\n",
    "# remove punctuation\n",
    "trash = r'[\\_,\\.,\\,,\\-,_,@,\\:,\\(,\\)]+'\n",
    "ff = {(re.sub(r'.*/', '', x['suitename']), re.sub(trash, '_', x['benchname'])) : {re.sub('\\_$', '', re.sub(trash, '_', k.lower())): v for k, v in x['benchdata'].items()} for x in j}\n",
    "\n",
    "# to dataframe\n",
    "df = pd.DataFrame.from_dict(ff, orient='index').fillna(0).astype(np.int32)\n",
    "\n",
    "# save memory\n",
    "del(j)\n",
    "\n",
    "# suite names\n",
    "suites = df.index.unique(0)\n",
    "\n",
    "# x, y\n",
    "plotfeatures = [\n",
    "    ('instcount_number_of_load_insts', 'instcount_number_of_store_insts'),\n",
    "    ('instcount_number_of_instructions_of_all_types', 'instcount_number_of_basic_blocks'),\n",
    "    ('varcounter_number_of_variable_uses_using_getnumuses', 'varcounter_number_of_named_variables'),\n",
    "    ('edgecounter_number_of_edges', 'instcount_number_of_basic_blocks'),\n",
    "]\n",
    "\n",
    "# {'suite1': {'X1,Y1': {'stat1': 5, 'stat2': 10}, 'X2,Y2': {'stat1': 5, 'stat2': 10}}, 'suite2':{{..}..}..}\n",
    "stats = {x: {sx + '_x_' + sy: {} for sx, sy in plotfeatures} for x in suites if x != 'tf' }"
   ]
  },
  {
   "cell_type": "code",
   "execution_count": null,
   "metadata": {},
   "outputs": [],
   "source": [
    "df.head()"
   ]
  },
  {
   "cell_type": "markdown",
   "metadata": {},
   "source": [
    "<br><div style=\"border:none;width:100%;height:4px;color:#000;background-color:#000;\"></div>\n",
    "# <center>Linear Regression - Stats</center>"
   ]
  },
  {
   "cell_type": "code",
   "execution_count": null,
   "metadata": {},
   "outputs": [],
   "source": [
    "stats = {x: {sx + '_x_' + sy: {} for sx, sy in plotfeatures} for x in suites if x != 'tf' }\n",
    "# tf regression\n",
    "tf_regr = {(t[0], t[1]) : {} for t in plotfeatures}\n",
    "for sx, sy in plotfeatures:\n",
    "    fx = np.array(df.loc['tf'][sx]).reshape(-1, 1)\n",
    "    fy = np.array(df.loc['tf'][sy])\n",
    "    regr = linear_model.LinearRegression()\n",
    "    regr.fit(fx, fy)\n",
    "    tf_regr[(sx, sy)]['coef'] = regr.coef_\n",
    "    tf_regr[(sx, sy)]['intercept'] = regr.intercept_\n",
    "    print(explained_variance_score(fy, regr.coef_ *fx + regr.intercept_))\n",
    "\n",
    "# suites' regressions\n",
    "for suite in [s for s in suites if s != 'tf']:\n",
    "    for sx, sy in plotfeatures:\n",
    "\n",
    "        if sx + '_x_' + sy not in stats[suite]:\n",
    "            stats[suite][sx + '_x_' + sy] = {}\n",
    "\n",
    "        fx = np.array(df.loc[suite][sx]).reshape(-1, 1)\n",
    "        fy = np.array(df.loc[suite][sy])\n",
    "\n",
    "        ## suite linear regression\n",
    "        regr = linear_model.LinearRegression()\n",
    "        regr.fit(fx, fy)\n",
    "        y_reg = fx * regr.coef_ + regr.intercept_  # y = ax + b\n",
    "\n",
    "        ## tf regression on suite's X for reference\n",
    "        y_tf = fx * tf_regr[(sx, sy)]['coef'] + tf_regr[(sx, sy)]['intercept']\n",
    "        \n",
    "        stats[suite][sx + '_x_' + sy]['mse_self']   = mean_squared_error(fy, y_reg)\n",
    "        stats[suite][sx + '_x_' + sy]['mae_self']   = mean_absolute_error(fy, y_reg)\n",
    "        stats[suite][sx + '_x_' + sy]['evs_self']   = explained_variance_score(fy, y_reg)\n",
    "        stats[suite][sx + '_x_' + sy]['r2s_self']   = r2_score(fy, y_reg)\n",
    "        stats[suite][sx + '_x_' + sy]['mseRegr_tf'] = mean_squared_error(y_reg, y_tf)\n",
    "        stats[suite][sx + '_x_' + sy]['maeRegr_tf'] = mean_absolute_error(y_reg, y_tf)\n",
    "        stats[suite][sx + '_x_' + sy]['evsRegr_tf'] = explained_variance_score(y_reg, y_tf)\n",
    "        stats[suite][sx + '_x_' + sy]['r2sRegr_tf'] = r2_score(y_reg, y_tf)\n",
    "        stats[suite][sx + '_x_' + sy]['mseTrue_tf'] = mean_squared_error(fy, y_tf)\n",
    "        stats[suite][sx + '_x_' + sy]['maeTrue_tf'] = mean_absolute_error(fy, y_tf)\n",
    "        stats[suite][sx + '_x_' + sy]['evsTrue_tf'] = explained_variance_score(fy, y_tf)\n",
    "        stats[suite][sx + '_x_' + sy]['r2sTrue_tf'] = r2_score(fy, y_tf)\n",
    "\n",
    "print('done')"
   ]
  },
  {
   "cell_type": "code",
   "execution_count": null,
   "metadata": {},
   "outputs": [],
   "source": [
    "midx = pd.MultiIndex.from_tuples([(suite, title) for suite, v in stats.items() for title in v.keys()])\n",
    "stdt = [dt for v in stats.values() for dt in v.values()]\n",
    "\n",
    "table_stats = pd.DataFrame(data=stdt, index=midx)\n",
    "stats_html  = table_stats.to_html()\n",
    "\n",
    "table_stats"
   ]
  },
  {
   "cell_type": "code",
   "execution_count": null,
   "metadata": {},
   "outputs": [],
   "source": [
    "print(stats_html)"
   ]
  },
  {
   "cell_type": "markdown",
   "metadata": {},
   "source": [
    "<br><div style=\"border:none;width:100%;height:4px;color:#000;background-color:#000;\"></div>\n",
    "# <center>Linear Regression - Plots</center>"
   ]
  },
  {
   "cell_type": "code",
   "execution_count": null,
   "metadata": {
    "scrolled": true
   },
   "outputs": [],
   "source": [
    "plt.rcParams['figure.figsize']  = (12, 8)\n",
    "plt.rcParams['font.size']       = 22\n",
    "\n",
    "plt.subplots_adjust(hspace=0.5)\n",
    "cnt = 0\n",
    "for suite in df.index.unique(0):\n",
    "    for sx, sy in plotfeatures:\n",
    "        \n",
    "        fx = np.array(df.loc[suite][sx]).reshape(-1, 1)\n",
    "        fy = np.array(df.loc[suite][sy])\n",
    "        \n",
    "        ax = plt.subplot()\n",
    "        \n",
    "        # scatter\n",
    "        ax.plot(fx, fy, '.r', lw=0.1)\n",
    "\n",
    "        # diagonal\n",
    "        x = np.linspace(0, np.max(fx))\n",
    "        y = x\n",
    "        ax.plot(x, y, '-k', lw=0.5)\n",
    "\n",
    "        # suite linear regression\n",
    "        regr = linear_model.LinearRegression()\n",
    "        regr.fit(fx, fy)\n",
    "        fx = np.append(np.array([[0]]), fx)    # 0 avoids a cropped line starting late\n",
    "        y = fx * regr.coef_ + regr.intercept_  # y = ax + b\n",
    "        ax.plot(fx, y, '-b', lw=1, label='{}'.format(suite))\n",
    "\n",
    "        # tf regression for reference\n",
    "        y = fx * tf_regr[(sx, sy)]['coef'] + tf_regr[(sx, sy)]['intercept']\n",
    "        tf_reg_plot = ax.plot(fx, y, '-m', lw=1, label='tf')\n",
    "        \n",
    "        # line legends. without a title, this is what identifies the plots\n",
    "        handles, labels = ax.get_legend_handles_labels()\n",
    "        ax.legend(handles[::-1], labels[::-1])\n",
    "        \n",
    "        # line info (slope, angle, etc)\n",
    "        ax.text(0.01, 1.05, 'Suite ∠ x: {: >6.2f}\\nSuite ∠ tf: {: >6.2f}'.format( np.arctan(regr.coef_[0])*(180/np.pi), np.arctan(tf_regr[(sx, sy)]['coef'][0] - regr.coef_[0])*(180/np.pi)), ha='left', transform=ax.transAxes)\n",
    "        ax.text(0.99, 1.05, 'Suite slope: {: >6.3f}\\ntf slope: {: >6.3f}'.format( regr.coef_[0], tf_regr[(sx, sy)]['coef'][0] ), ha='right', transform=ax.transAxes)\n",
    "\n",
    "        # pretty labels\n",
    "        ax.set_xlabel(re.sub(r' \\(', '\\n(', re.sub('_', ' ', re.sub('.*::', '', sx))).title())\n",
    "        ax.set_ylabel(re.sub(r' \\(', '\\n(', re.sub('_', ' ', re.sub('.*::', '', sy))).title())\n",
    "        \n",
    "        cnt += 1  # need this for subplot management and (if desired) naming plots\n",
    "        \n",
    "        plt.savefig('data/img/{}_{}.png'.format(suite, (cnt % 4) + 1), format='png')  # individual figures\n",
    "        plt.close()  # individual figures\n",
    "        \n",
    "print('done')"
   ]
  },
  {
   "cell_type": "markdown",
   "metadata": {},
   "source": [
    "<br><div style=\"border:none;width:100%;height:4px;color:#000;background-color:#000;\"></div>\n",
    "# <center> T-test </center>"
   ]
  },
  {
   "cell_type": "code",
   "execution_count": null,
   "metadata": {},
   "outputs": [],
   "source": [
    "# X_TF = list of every ratio \"number of variables\"/\"number of uses\" per program in TF.\n",
    "# X_An = same thing, but for Angha."
   ]
  },
  {
   "cell_type": "code",
   "execution_count": null,
   "metadata": {},
   "outputs": [],
   "source": [
    "### mad science tests\n",
    "## class Point2d:\n",
    "##     def __init__(self, vx=0, vy=0):\n",
    "##         self.x = vx\n",
    "##         self.y = vy\n",
    "##     def __add__(self, other):\n",
    "##         return Point2d(self.x + other.x, self.y + other.y)\n",
    "##     def __str__(self):\n",
    "##         return '({}, {})'.format(self.x, self.y)"
   ]
  },
  {
   "cell_type": "markdown",
   "metadata": {},
   "source": [
    "<br><div style=\"border:none;width:100%;height:4px;color:#000;background-color:#000;\"></div>\n",
    "# <center> Median/Quantile feature plots </center>"
   ]
  },
  {
   "cell_type": "code",
   "execution_count": null,
   "metadata": {},
   "outputs": [],
   "source": [
    "##------------------ Median/Quantile ------------------#\n",
    "## Wanna implement it so that the plots make more sense.\n",
    "## Currently the outliers stretch the axis' too much.\n",
    "##------------------ Unfinished work ------------------#\n",
    "\n",
    "#q25, q75 = df['instcount::Number_of_instructions_(of_all_types)'].quantile([0.25, 0.75])\n",
    "\n",
    "#quantile_pct=1\n",
    "#qntl = 0.5\n",
    "#suite = 'tf'\n",
    "#colname = 'instcount::Number_of_Load_insts'\n",
    "#df.loc[suite][df.loc[suite][colname] <= df.loc[suite][colname].quantile(qntl)][colname]\n",
    "\n",
    "##df_med = df.loc[suite][df.loc[suite][sx] <= df.loc[suite][sx].quantile(quantile_pct)]\n",
    "##fxm = np.array(df_med[sx]).reshape(-1, 1)\n",
    "##fym = np.array(df_med[sy])\n",
    "#\n",
    "#fx = np.array(df.loc[suite][sx]).reshape(-1, 1)\n",
    "#fy = np.array(df.loc[suite][sy])\n",
    "#\n",
    "#plt.xlabel(sx)\n",
    "#plt.ylabel(sy)\n",
    "#\n",
    "## scatter\n",
    "#plt.plot(fx, fy, '.r', lw=0.1)  # plt.plot(fxm, fym, '.r', lw=0.1)\n",
    "#\n",
    "## diagonal\n",
    "#x = np.linspace(0, np.max(fx))  # x = np.linspace(0, np.max(fxm))\n",
    "#y = x\n",
    "#plt.plot(x, y, '-k', lw=0.5)"
   ]
  }
 ],
 "metadata": {
  "kernelspec": {
   "display_name": "Python 3",
   "language": "python",
   "name": "python3"
  },
  "language_info": {
   "codemirror_mode": {
    "name": "ipython",
    "version": 3
   },
   "file_extension": ".py",
   "mimetype": "text/x-python",
   "name": "python",
   "nbconvert_exporter": "python",
   "pygments_lexer": "ipython3",
   "version": "3.7.4"
  }
 },
 "nbformat": 4,
 "nbformat_minor": 2
}
