{
 "cells": [
  {
   "cell_type": "code",
   "execution_count": null,
   "metadata": {},
   "outputs": [],
   "source": [
    "import string\n",
    "import re\n",
    "import json\n",
    "\n",
    "import pandas as pd\n",
    "import numpy as np\n",
    "import scipy.stats as ss\n",
    "import researchpy as rp"
   ]
  },
  {
   "cell_type": "code",
   "execution_count": null,
   "metadata": {},
   "outputs": [],
   "source": [
    "# x, y, y/s\n",
    "plotfeatures = [\n",
    "    ('instcount::Number_of_Load_insts', 'instcount::Number_of_Store_insts', 'stores/loads'),\n",
    "    ('instcount::Number_of_instructions_(of_all_types)', 'instcount::Number_of_basic_blocks', 'basicblocks/instcount(all)'),\n",
    "    ('VarCounter::Number_of_variable_uses_(using_GetNumUses).', 'VarCounter::Number_of_named_variables.', 'namedvars/varuses'),\n",
    "    ('EdgeCounter::Number_of_edges.', 'instcount::Number_of_basic_blocks', 'basicblocks/edges')\n",
    "]"
   ]
  },
  {
   "cell_type": "code",
   "execution_count": null,
   "metadata": {},
   "outputs": [],
   "source": [
    "with open(\"data/stats_no___a530,csmith_random,angha_typeinf_off.txt\", \"r+\") as finput:\n",
    "    j = json.load(finput)"
   ]
  },
  {
   "cell_type": "code",
   "execution_count": null,
   "metadata": {},
   "outputs": [],
   "source": [
    "ff = {(re.sub(r'.*/', '', x['suitename']), re.sub(r'[\\_,\\.,\\,,\\-,_,@]+', '_', x['benchname'])) : x['benchdata'] for x in j}\n",
    "\n",
    "df = pd.DataFrame.from_dict(ff, orient='index').fillna(0).astype(np.int32)"
   ]
  },
  {
   "cell_type": "code",
   "execution_count": null,
   "metadata": {
    "scrolled": false
   },
   "outputs": [],
   "source": [
    "with open('researchpy_ttest.html', 'w+') as fin:\n",
    "    # researchpy\n",
    "    for suite in [x for x in df.index.unique(0) if x != 'tf']:\n",
    "        for sx, sy, ratio in plotfeatures:\n",
    "            sz = min(len(X[suite][ratio]), len(X['tf'][ratio]))\n",
    "            T[suite][ratio]['rp_eqvar_true']  = rp.ttest(pd.Series(np.random.choice(X[suite][ratio], sz), name=suite), pd.Series(np.random.choice(X['tf'][ratio], sz), name='tf'), equal_variances=True)\n",
    "            fin.write(T[suite][ratio]['rp_eqvar_true'][0].to_html())\n",
    "            fin.write(T[suite][ratio]['rp_eqvar_true'][1].to_html())\n",
    "\n",
    "    # researchpy\n",
    "    for suite in [x for x in df.index.unique(0) if x != 'tf']:\n",
    "        for sx, sy, ratio in plotfeatures:\n",
    "            sz = min(len(X[suite][ratio]), len(X['tf'][ratio]))\n",
    "            T[suite][ratio]['rp_eqvar_false'] = rp.ttest(pd.Series(np.random.choice(X[suite][ratio], sz), name=suite), pd.Series(np.random.choice(X['tf'][ratio], sz), name='tf'), equal_variances=False)\n",
    "            fin.write(T[suite][ratio]['rp_eqvar_false'][0].to_html())\n",
    "            fin.write(T[suite][ratio]['rp_eqvar_false'][1].to_html())"
   ]
  },
  {
   "cell_type": "code",
   "execution_count": null,
   "metadata": {},
   "outputs": [],
   "source": [
    "T = {suite: {} for suite in df.index.unique(0)}\n",
    "X = {suite: {} for suite in df.index.unique(0)}\n",
    "for suite in df.index.unique(0):\n",
    "    for sx, sy, ratio in plotfeatures:\n",
    "        fx = np.array([x if x != 0 else 1 for x in df.loc[suite][sx]])\n",
    "        fy = np.array(df.loc[suite][sy])\n",
    "        X[suite][ratio] = fy / fx\n",
    "\n",
    "with open('scipy_ttest.txt', 'w+') as fin:\n",
    "    for suite in [x for x in df.index.unique(0) if x != 'tf']:\n",
    "        for sx, sy, ratio in plotfeatures:\n",
    "            T[suite][ratio] = {}\n",
    "            # scipy\n",
    "            T[suite][ratio]['scipy']          = ss.ttest_ind(X[suite][ratio], X['tf'][ratio], equal_var=True)\n",
    "            fin.write('suite: {}; ratio: {}\\nequal_var=True; stat: {}; p_value: {}\\n\\n'.format(suite, ratio, T[suite][ratio]['scipy'][0], T[suite][ratio]['scipy'][1]))\n",
    "\n",
    "    for suite in [x for x in df.index.unique(0) if x != 'tf']:\n",
    "        for sx, sy, ratio in plotfeatures:\n",
    "            T[suite][ratio] = {}\n",
    "            # scipy\n",
    "            T[suite][ratio]['scipy']          = ss.ttest_ind(X[suite][ratio], X['tf'][ratio], equal_var=False)\n",
    "            fin.write('suite: {}; ratio: {}\\nequal_var=False; stat: {}; p_value: {}\\n\\n'.format(suite, ratio, T[suite][ratio]['scipy'][0], T[suite][ratio]['scipy'][1]))"
   ]
  }
 ],
 "metadata": {
  "kernelspec": {
   "display_name": "Python 3",
   "language": "python",
   "name": "python3"
  },
  "language_info": {
   "codemirror_mode": {
    "name": "ipython",
    "version": 3
   },
   "file_extension": ".py",
   "mimetype": "text/x-python",
   "name": "python",
   "nbconvert_exporter": "python",
   "pygments_lexer": "ipython3",
   "version": "3.6.8"
  }
 },
 "nbformat": 4,
 "nbformat_minor": 2
}
