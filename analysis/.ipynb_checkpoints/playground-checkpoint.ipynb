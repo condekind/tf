{
 "cells": [
  {
   "cell_type": "markdown",
   "metadata": {},
   "source": [
    "<br><div style=\"border:none;width:100%;height:4px;color:#000;background-color:#000;\"></div>\n",
    "# <center> Feature Plots </center>"
   ]
  },
  {
   "cell_type": "code",
   "execution_count": null,
   "metadata": {},
   "outputs": [],
   "source": [
    "<br><div style=\"border:none;width:100%;height:4px;color:#000;background-color:#000;\"></div>\n",
    "# <center> T-test </center>import string\n",
    "import re\n",
    "import json\n",
    "\n",
    "import pandas as pd\n",
    "import numpy as np\n",
    "\n",
    "import matplotlib.pyplot as plt\n",
    "\n",
    "from sklearn import linear_model\n",
    "\n",
    "plt.rcParams['axes.labelsize']  = 20\n",
    "plt.rcParams['axes.titlesize']  = 26\n",
    "plt.rcParams['font.family']='monospace'\n",
    "plt.rcParams['font.size']       = 22\n",
    "plt.rcParams['legend.fontsize'] = 22\n",
    "plt.rcParams['xtick.labelsize'] = 20\n",
    "plt.rcParams['ytick.labelsize'] = 20\n",
    "plt.rcParams['lines.linewidth'] = 4"
   ]
  },
  {
   "cell_type": "code",
   "execution_count": null,
   "metadata": {},
   "outputs": [],
   "source": [
    "plotfeatures = [\n",
    "    ('instcount::Number_of_Load_insts', 'instcount::Number_of_Store_insts'),\n",
    "    ('instcount::Number_of_instructions_(of_all_types)', 'instcount::Number_of_basic_blocks'),\n",
    "    ('VarCounter::Number_of_variable_uses_(using_GetNumUses).', 'VarCounter::Number_of_named_variables.'),\n",
    "    ('EdgeCounter::Number_of_edges.', 'instcount::Number_of_basic_blocks')\n",
    "]"
   ]
  },
  {
   "cell_type": "code",
   "execution_count": null,
   "metadata": {},
   "outputs": [],
   "source": [
    "with open(\"data/stats_no___a530,csmith_random,angha_typeinf_off.txt\", \"r+\") as finput:\n",
    "    j = json.load(finput)"
   ]
  },
  {
   "cell_type": "code",
   "execution_count": null,
   "metadata": {},
   "outputs": [],
   "source": [
    "ff = {(re.sub(r'.*/', '', x['suitename']), re.sub(r'[\\_,\\.,\\,,\\-,_,@]+', '_', x['benchname'])) : x['benchdata'] for x in j}\n",
    "\n",
    "df = pd.DataFrame.from_dict(ff, orient='index').fillna(0).astype(np.int32)"
   ]
  },
  {
   "cell_type": "code",
   "execution_count": null,
   "metadata": {
    "scrolled": false
   },
   "outputs": [],
   "source": [
    "plt.rcParams['figure.figsize']  = (24, 18 * len(df.index.unique(0)))\n",
    "plt.rcParams['font.size']       = 22\n",
    "\n",
    "tf_regr = {(t[0], t[1]) : {} for t in plotfeatures}\n",
    "for sx, sy in plotfeatures:\n",
    "    fx = np.array(df.loc['tf'][sx]).reshape(-1, 1)\n",
    "    fy = np.array(df.loc['tf'][sy])\n",
    "    regr = linear_model.LinearRegression()\n",
    "    regr.fit(fx, fy)\n",
    "    tf_regr[(sx, sy)]['coef'] = regr.coef_\n",
    "    tf_regr[(sx, sy)]['intercept'] = regr.intercept_\n",
    "\n",
    "\n",
    "plt.subplots_adjust(hspace=0.5)\n",
    "quantile_pct=1\n",
    "cnt = 0\n",
    "for suite in df.index.unique(0):\n",
    "    for sx, sy in plotfeatures:\n",
    "        fx = np.array(df.loc[suite][sx]).reshape(-1, 1)\n",
    "        fy = np.array(df.loc[suite][sy])\n",
    "        \n",
    "        # arrange plots in a grid\n",
    "        ax = plt.subplot(len(df.index.unique(0)) * 2, 2, cnt + 1)\n",
    "\n",
    "        # scatter\n",
    "        ax.plot(fx, fy, '.r', lw=0.1)\n",
    "\n",
    "        # diagonal\n",
    "        x = np.linspace(0, np.max(fx))\n",
    "        y = x\n",
    "        ax.plot(x, y, '-k', lw=0.5)\n",
    "\n",
    "        # suite linear regression\n",
    "        regr = linear_model.LinearRegression()\n",
    "        regr.fit(fx, fy)\n",
    "        fx = np.append(np.array([[0]]), fx)    # 0 avoids a cropped line starting late\n",
    "        y = fx * regr.coef_ + regr.intercept_  # y = ax + b\n",
    "        suite_reg_plot = ax.plot(fx, y, '-b', lw=1, label='{}'.format(suite))\n",
    "\n",
    "        # tf regression for reference\n",
    "        y = fx * tf_regr[(sx, sy)]['coef'] + tf_regr[(sx, sy)]['intercept']\n",
    "        tf_reg_plot = ax.plot(fx, y, '-m', lw=1, label='tf')\n",
    "        \n",
    "        # line legends. without a title, this is what identifies the plots\n",
    "        handles, labels = ax.get_legend_handles_labels()\n",
    "        ax.legend(handles[::-1], labels[::-1])\n",
    "        \n",
    "        # line info (slope, angle, etc)\n",
    "        ax.text(0.01, 1.05, 'Suite ∠ x: {: >6.2f}\\nSuite ∠ tf: {: >6.2f}'.format( np.arctan(regr.coef_[0])*(180/np.pi), np.arctan(tf_regr[(sx, sy)]['coef'][0] - regr.coef_[0])*(180/np.pi)), ha='left', transform=ax.transAxes)\n",
    "        ax.text(0.99, 1.05, 'Suite slope: {: >6.3f}\\ntf slope: {: >6.3f}'.format( regr.coef_[0], tf_regr[(sx, sy)]['coef'][0] ), ha='right', transform=ax.transAxes)\n",
    "\n",
    "        # pretty labels\n",
    "        ax.set_xlabel(re.sub(r' \\(', '\\n(', re.sub('_', ' ', re.sub('.*::', '', sx))).title())\n",
    "        ax.set_ylabel(re.sub(r' \\(', '\\n(', re.sub('_', ' ', re.sub('.*::', '', sy))).title())\n",
    "        \n",
    "        cnt += 1  # need this for subplot management and (if desired) naming plots\n",
    "        #plt.savefig('data/img/{}_{}.png'.format(suite, (cnt % 4) + 1), format='png')  # individual figures\n",
    "        #plt.close()  # individual figures\n",
    "        \n",
    "plt.savefig('data/all.png', format='png')\n",
    "#plt.show()"
   ]
  },
  {
   "cell_type": "markdown",
   "metadata": {},
   "source": [
    "<br><div style=\"border:none;width:100%;height:4px;color:#000;background-color:#000;\"></div>\n",
    "# <center> T-test </center>"
   ]
  },
  {
   "cell_type": "code",
   "execution_count": null,
   "metadata": {},
   "outputs": [],
   "source": [
    "X_TF = list of every ratio \"number of variables\"/\"number of uses\" per program in TF.\n",
    "X_An = same thing, but for Angha."
   ]
  },
  {
   "cell_type": "code",
   "execution_count": null,
   "metadata": {},
   "outputs": [],
   "source": []
  },
  {
   "cell_type": "markdown",
   "metadata": {},
   "source": [
    "[//]: # (<br><div style=\"border:none;width:100%;height:4px;color:#000;background-color:#000;\"></div>)\n",
    "[//]: # (# <center> Median/Quantile feature plots </center>)"
   ]
  },
  {
   "cell_type": "code",
   "execution_count": null,
   "metadata": {},
   "outputs": [],
   "source": [
    "#----------------- Median/Quantile -----------------#\n",
    "# Wanna implement it so that the plots are prettier.\n",
    "# Currently the outliers stretch the axis' too much.\n",
    "#----------------- Unfinished work -----------------#\n",
    "\n",
    "#qntl = 0.5\n",
    "#suite = 'tf'\n",
    "#colname = 'instcount::Number_of_Load_insts'\n",
    "#df.loc[suite][df.loc[suite][colname] <= df.loc[suite][colname].quantile(qntl)][colname]\n",
    "\n",
    "##df_med = df.loc[suite][df.loc[suite][sx] <= df.loc[suite][sx].quantile(quantile_pct)]\n",
    "##fxm = np.array(df_med[sx]).reshape(-1, 1)\n",
    "##fym = np.array(df_med[sy])\n",
    "#\n",
    "#fx = np.array(df.loc[suite][sx]).reshape(-1, 1)\n",
    "#fy = np.array(df.loc[suite][sy])\n",
    "#\n",
    "#plt.xlabel(sx)\n",
    "#plt.ylabel(sy)\n",
    "#\n",
    "## scatter\n",
    "#plt.plot(fx, fy, '.r', lw=0.1)  # plt.plot(fxm, fym, '.r', lw=0.1)\n",
    "#\n",
    "## diagonal\n",
    "#x = np.linspace(0, np.max(fx))  # x = np.linspace(0, np.max(fxm))\n",
    "#y = x\n",
    "#plt.plot(x, y, '-k', lw=0.5)"
   ]
  }
 ],
 "metadata": {
  "kernelspec": {
   "display_name": "Python 3",
   "language": "python",
   "name": "python3"
  },
  "language_info": {
   "codemirror_mode": {
    "name": "ipython",
    "version": 3
   },
   "file_extension": ".py",
   "mimetype": "text/x-python",
   "name": "python",
   "nbconvert_exporter": "python",
   "pygments_lexer": "ipython3",
   "version": "3.7.4"
  }
 },
 "nbformat": 4,
 "nbformat_minor": 2
}
