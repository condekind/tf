{
 "cells": [
  {
   "cell_type": "code",
   "execution_count": null,
   "metadata": {},
   "outputs": [],
   "source": [
    "import string\n",
    "import re\n",
    "import json\n",
    "\n",
    "import pandas as pd\n",
    "import numpy as np\n",
    "\n",
    "import matplotlib.pyplot as plt\n",
    "\n",
    "from sklearn import linear_model\n",
    "from sklearn.model_selection import train_test_split\n",
    "\n",
    "plt.rcParams['axes.labelsize']  = 20\n",
    "plt.rcParams['axes.titlesize']  = 20\n",
    "plt.rcParams['font.size']       = 16\n",
    "plt.rcParams['legend.fontsize'] = 20\n",
    "plt.rcParams['xtick.labelsize'] = 20\n",
    "plt.rcParams['ytick.labelsize'] = 20\n",
    "plt.rcParams['lines.linewidth'] = 4"
   ]
  },
  {
   "cell_type": "code",
   "execution_count": null,
   "metadata": {},
   "outputs": [],
   "source": [
    "plotfeatures = [\n",
    "    ('instcount::Number_of_Load_insts', 'instcount::Number_of_Store_insts'),\n",
    "    ('instcount::Number_of_instructions_(of_all_types)', 'instcount::Number_of_basic_blocks'),\n",
    "    ('VarCounter::Number_of_variable_uses_(using_GetNumUses).', 'VarCounter::Number_of_named_variables.'),\n",
    "    ('EdgeCounter::Number_of_edges.', 'instcount::Number_of_basic_blocks')\n",
    "]"
   ]
  },
  {
   "cell_type": "code",
   "execution_count": null,
   "metadata": {},
   "outputs": [],
   "source": [
    "with open(\"data/stats_no___a530,csmith_random,angha_typeinf_off.txt\", \"r+\") as finput:\n",
    "    j = json.load(finput)"
   ]
  },
  {
   "cell_type": "code",
   "execution_count": null,
   "metadata": {},
   "outputs": [],
   "source": [
    "ff = {(re.sub(r'.*/', '', x['suitename']), re.sub(r'[\\_,\\.,\\,,\\-,_,@]+', '_', x['benchname'])) : x['benchdata'] for x in j}\n",
    "\n",
    "df = pd.DataFrame.from_dict(ff, orient='index').fillna(0).astype(np.int32)"
   ]
  },
  {
   "cell_type": "code",
   "execution_count": null,
   "metadata": {
    "scrolled": true
   },
   "outputs": [],
   "source": [
    "#df.loc['tf'][df.loc['tf']['instcount::Number_of_Load_insts'] <= df.loc['tf']['instcount::Number_of_Load_insts'].quantile(1)]['instcount::Number_of_Load_insts']"
   ]
  },
  {
   "cell_type": "code",
   "execution_count": null,
   "metadata": {},
   "outputs": [],
   "source": [
    "#from matplotlib.pyplot import figure\n",
    "#figure(num=None, figsize=(8, 6), dpi=80)"
   ]
  },
  {
   "cell_type": "code",
   "execution_count": null,
   "metadata": {
    "scrolled": false
   },
   "outputs": [],
   "source": [
    "plt.rcParams['figure.figsize']  = (24, 18 * len(df.index.unique(0)))\n",
    "\n",
    "tf_regr = {(t[0], t[1]) : {} for t in plotfeatures}\n",
    "for sx, sy in plotfeatures:\n",
    "    fx = np.array(df.loc['tf'][sx]).reshape(-1, 1)\n",
    "    fy = np.array(df.loc['tf'][sy])\n",
    "    regr = linear_model.LinearRegression()\n",
    "    regr.fit(fx, fy)\n",
    "    tf_regr[(sx, sy)]['coef'] = regr.coef_\n",
    "    tf_regr[(sx, sy)]['intercept'] = regr.intercept_\n",
    "\n",
    "\n",
    "plt.subplots_adjust(hspace=0.5)\n",
    "quantile_pct=1\n",
    "cnt = 0\n",
    "for suite in df.index.unique(0):\n",
    "    for sx, sy in plotfeatures:\n",
    "        ax = plt.subplot(len(df.index.unique(0)) * 2, 2, cnt + 1)\n",
    "\n",
    "        fx = np.array(df.loc[suite][sx]).reshape(-1, 1)\n",
    "        fy = np.array(df.loc[suite][sy])\n",
    "\n",
    "        # scatter\n",
    "        ax.plot(fx, fy, '.r', lw=0.1)\n",
    "\n",
    "        # diagonal\n",
    "        x = np.linspace(0, np.max(fx))\n",
    "        y = x\n",
    "        ax.plot(x, y, '-k', lw=0.5)\n",
    "\n",
    "        # suite linear regression\n",
    "        regr = linear_model.LinearRegression()\n",
    "        regr.fit(fx, fy)\n",
    "        fx = np.append(np.array([[0]]), fx)    # 0 avoids a cropped line starting late\n",
    "        y = fx * regr.coef_ + regr.intercept_  # y = ax + b\n",
    "        suite_reg_plot = ax.plot(fx, y, '-b', lw=1, label='{}'.format(suite))\n",
    "\n",
    "        # tf regression for reference\n",
    "        y = fx * tf_regr[(sx, sy)]['coef'] + tf_regr[(sx, sy)]['intercept']\n",
    "        tf_reg_plot = ax.plot(fx, y, '-m', lw=1, label='tf')\n",
    "        \n",
    "        # fluff\n",
    "        ax.set_title('{}'.format(suite))\n",
    "        handles, labels = ax.get_legend_handles_labels()\n",
    "        ax.legend(handles[::-1], labels[::-1])\n",
    "        ax.text(0.025, 1.05, 'Slope: {}\\nΔ Slope: {}'.format(round(regr.coef_[0], 3), round(tf_regr[(sx, sy)]['coef'][0], 3)), transform=ax.transAxes, bbox=dict(boxstyle='square', ec=(1., 0.5, 0.5), fc=(1., 0.8, 0.8)))\n",
    "        #plt.legend(['Suite regr. slope: {}\\nSlope Difference: {}'.format(round(regr.coef_[0], 2), round(np.arctan(regr.coef_ - tf_regr[(sx, sy)]['coef'])[0], 2))])\n",
    "        ax.set_xlabel(sx)\n",
    "        ax.set_ylabel(sy)\n",
    "        \n",
    "        cnt += 1\n",
    "        #plt.savefig('data/img/{}_{}.png'.format(suite, (cnt % 4) + 1), format='png')\n",
    "        #plt.close()\n",
    "        \n",
    "#plt.savefig('data/all.png', format='png')\n",
    "plt.show()"
   ]
  },
  {
   "cell_type": "code",
   "execution_count": null,
   "metadata": {},
   "outputs": [],
   "source": [
    "### Median/Quantile\n",
    "##df_med = df.loc[suite][df.loc[suite][sx] <= df.loc[suite][sx].quantile(quantile_pct)]\n",
    "##fxm = np.array(df_med[sx]).reshape(-1, 1)\n",
    "##fym = np.array(df_med[sy])\n",
    "#\n",
    "#fx = np.array(df.loc[suite][sx]).reshape(-1, 1)\n",
    "#fy = np.array(df.loc[suite][sy])\n",
    "#\n",
    "#plt.xlabel(sx)\n",
    "#plt.ylabel(sy)\n",
    "#\n",
    "## scatter\n",
    "#plt.plot(fx, fy, '.r', lw=0.1)  # plt.plot(fxm, fym, '.r', lw=0.1)\n",
    "#\n",
    "## diagonal\n",
    "#x = np.linspace(0, np.max(fx))  # x = np.linspace(0, np.max(fxm))\n",
    "#y = x\n",
    "#plt.plot(x, y, '-k', lw=0.5)"
   ]
  }
 ],
 "metadata": {
  "kernelspec": {
   "display_name": "Python 3",
   "language": "python",
   "name": "python3"
  },
  "language_info": {
   "codemirror_mode": {
    "name": "ipython",
    "version": 3
   },
   "file_extension": ".py",
   "mimetype": "text/x-python",
   "name": "python",
   "nbconvert_exporter": "python",
   "pygments_lexer": "ipython3",
   "version": "3.6.8"
  }
 },
 "nbformat": 4,
 "nbformat_minor": 2
}
