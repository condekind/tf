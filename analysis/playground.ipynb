{
 "cells": [
  {
   "cell_type": "markdown",
   "metadata": {},
   "source": [
    "<br><div style=\"border:none;width:100%;height:4px;color:#000;background-color:#000;\"></div>\n",
    "# <center> Feature Plots </center>"
   ]
  },
  {
   "cell_type": "code",
   "execution_count": 1,
   "metadata": {},
   "outputs": [],
   "source": [
    "import re\n",
    "import json\n",
    "from copy import copy\n",
    "from pprint import pprint\n",
    "\n",
    "import pandas as pd\n",
    "import numpy as np\n",
    "\n",
    "import matplotlib.pyplot as plt\n",
    "\n",
    "from sklearn import linear_model\n",
    "from sklearn.metrics import explained_variance_score, mean_absolute_error, mean_squared_error, r2_score\n",
    "\n",
    "plt.rcParams['axes.labelsize']  = 20\n",
    "plt.rcParams['axes.titlesize']  = 26\n",
    "plt.rcParams['font.family']='monospace'\n",
    "plt.rcParams['font.size']       = 22\n",
    "plt.rcParams['legend.fontsize'] = 22\n",
    "plt.rcParams['xtick.labelsize'] = 20\n",
    "plt.rcParams['ytick.labelsize'] = 20\n",
    "plt.rcParams['lines.linewidth'] = 4"
   ]
  },
  {
   "cell_type": "code",
   "execution_count": 15,
   "metadata": {},
   "outputs": [],
   "source": [
    "from itertools import product"
   ]
  },
  {
   "cell_type": "code",
   "execution_count": 2,
   "metadata": {},
   "outputs": [],
   "source": [
    "# json load\n",
    "with open(\"data/stats_all.json\", \"r+\") as finput:\n",
    "    j = json.load(finput)\n",
    "\n",
    "# remove punctuation\n",
    "trash = r'[\\_,\\.,\\,,\\-,_,@,\\:,\\(,\\)]+'\n",
    "ff = {(re.sub(r'.*/', '', x['suitename']), re.sub(trash, '_', x['benchname'])) : {re.sub('\\_$', '', re.sub(trash, '_', k.lower())): v for k, v in x['benchdata'].items()} for x in j}\n",
    "\n",
    "# to dataframe\n",
    "df = pd.DataFrame.from_dict(ff, orient='index').fillna(0).astype(np.int32)\n",
    "\n",
    "# save memory\n",
    "del(j)\n",
    "\n",
    "# suite names\n",
    "suites = df.index.unique(0)\n",
    "\n",
    "# x, y\n",
    "plotfeatures = [\n",
    "    ('instcount_number_of_load_insts', 'instcount_number_of_store_insts'),\n",
    "    ('instcount_number_of_instructions_of_all_types', 'instcount_number_of_basic_blocks'),\n",
    "    ('varcounter_number_of_variable_uses_using_getnumuses', 'varcounter_number_of_named_variables'),\n",
    "    ('edgecounter_number_of_edges', 'instcount_number_of_basic_blocks'),\n",
    "]\n",
    "\n",
    "statlist = [\n",
    "    'mean_squared_error',\n",
    "    'mean_absolute_error',\n",
    "    'explained_variance_score',\n",
    "    'r2_score',\n",
    "    'y_suite',\n",
    "    'y_tf',\n",
    "]\n",
    "\n",
    "stats = {x: {sx + '_x_' + sy: {} for sx, sy in plotfeatures} for x in suites if x != 'tf' }"
   ]
  },
  {
   "cell_type": "code",
   "execution_count": 198,
   "metadata": {},
   "outputs": [],
   "source": [
    "# tf regression\n",
    "tf_regr = {(t[0], t[1]) : {} for t in plotfeatures}\n",
    "for sx, sy in plotfeatures:\n",
    "    fx = np.array(df.loc['tf'][sx]).reshape(-1, 1)\n",
    "    fy = np.array(df.loc['tf'][sy])\n",
    "    regr = linear_model.LinearRegression()\n",
    "    regr.fit(fx, fy)\n",
    "    tf_regr[(sx, sy)]['coef'] = regr.coef_\n",
    "    tf_regr[(sx, sy)]['intercept'] = regr.intercept_\n",
    "\n",
    "for suite in suites:\n",
    "    if suite == 'tf':\n",
    "        continue\n",
    "    for sx, sy in plotfeatures:\n",
    "\n",
    "        if sx + '_x_' + sy not in stats[suite]:\n",
    "            stats[suite][sx + '_x_' + sy] = {}\n",
    "\n",
    "        fx = np.array(df.loc[suite][sx]).reshape(-1, 1)\n",
    "        fy = np.array(df.loc[suite][sy])\n",
    "\n",
    "        ## suite linear regression\n",
    "        regr = linear_model.LinearRegression()\n",
    "        regr.fit(fx, fy)\n",
    "        fx = np.append(np.array([[0]]), fx)    # 0 avoids a cropped line starting late\n",
    "        y_suite = fx * regr.coef_ + regr.intercept_  # y = ax + b\n",
    "        #stats[suite][sx + '_x_' + sy]['y_suite'] = y\n",
    "\n",
    "        ## tf regression for reference\n",
    "        y_tf = fx * tf_regr[(sx, sy)]['coef'] + tf_regr[(sx, sy)]['intercept']\n",
    "        #stats[suite][sx + '_x_' + sy]['y_tf'] = y\n",
    "        \n",
    "        stats[suite][sx + '_x_' + sy]['mean_squared_error']       = mean_squared_error(y_tf, y_suite)\n",
    "        stats[suite][sx + '_x_' + sy]['mean_absolute_error']      = mean_absolute_error(y_tf, y_suite)\n",
    "        stats[suite][sx + '_x_' + sy]['explained_variance_score'] = explained_variance_score(y_tf, y_suite)\n",
    "        stats[suite][sx + '_x_' + sy]['r2_score']                 = r2_score(y_tf, y_suite)"
   ]
  },
  {
   "cell_type": "code",
   "execution_count": 241,
   "metadata": {},
   "outputs": [
    {
     "ename": "TypeError",
     "evalue": "object of type 'builtin_function_or_method' has no len()",
     "output_type": "error",
     "traceback": [
      "\u001b[0;31m---------------------------------------------------------------------------\u001b[0m",
      "\u001b[0;31mTypeError\u001b[0m                                 Traceback (most recent call last)",
      "\u001b[0;32m<ipython-input-241-2418401769f1>\u001b[0m in \u001b[0;36m<module>\u001b[0;34m\u001b[0m\n\u001b[0;32m----> 1\u001b[0;31m \u001b[0mpd\u001b[0m\u001b[0;34m.\u001b[0m\u001b[0mMultiIndex\u001b[0m\u001b[0;34m(\u001b[0m\u001b[0mstats\u001b[0m\u001b[0;34m,\u001b[0m \u001b[0mcodes\u001b[0m\u001b[0;34m=\u001b[0m\u001b[0mstats\u001b[0m\u001b[0;34m.\u001b[0m\u001b[0mkeys\u001b[0m\u001b[0;34m)\u001b[0m\u001b[0;34m\u001b[0m\u001b[0;34m\u001b[0m\u001b[0m\n\u001b[0m",
      "\u001b[0;32m~/.local/lib/python3.6/site-packages/pandas/util/_decorators.py\u001b[0m in \u001b[0;36mwrapper\u001b[0;34m(*args, **kwargs)\u001b[0m\n\u001b[1;32m    206\u001b[0m                 \u001b[0;32melse\u001b[0m\u001b[0;34m:\u001b[0m\u001b[0;34m\u001b[0m\u001b[0;34m\u001b[0m\u001b[0m\n\u001b[1;32m    207\u001b[0m                     \u001b[0mkwargs\u001b[0m\u001b[0;34m[\u001b[0m\u001b[0mnew_arg_name\u001b[0m\u001b[0;34m]\u001b[0m \u001b[0;34m=\u001b[0m \u001b[0mnew_arg_value\u001b[0m\u001b[0;34m\u001b[0m\u001b[0;34m\u001b[0m\u001b[0m\n\u001b[0;32m--> 208\u001b[0;31m             \u001b[0;32mreturn\u001b[0m \u001b[0mfunc\u001b[0m\u001b[0;34m(\u001b[0m\u001b[0;34m*\u001b[0m\u001b[0margs\u001b[0m\u001b[0;34m,\u001b[0m \u001b[0;34m**\u001b[0m\u001b[0mkwargs\u001b[0m\u001b[0;34m)\u001b[0m\u001b[0;34m\u001b[0m\u001b[0;34m\u001b[0m\u001b[0m\n\u001b[0m\u001b[1;32m    209\u001b[0m \u001b[0;34m\u001b[0m\u001b[0m\n\u001b[1;32m    210\u001b[0m         \u001b[0;32mreturn\u001b[0m \u001b[0mwrapper\u001b[0m\u001b[0;34m\u001b[0m\u001b[0;34m\u001b[0m\u001b[0m\n",
      "\u001b[0;32m~/.local/lib/python3.6/site-packages/pandas/core/indexes/multi.py\u001b[0m in \u001b[0;36m__new__\u001b[0;34m(cls, levels, codes, sortorder, names, dtype, copy, name, verify_integrity, _set_identity)\u001b[0m\n\u001b[1;32m    249\u001b[0m         \u001b[0;32mif\u001b[0m \u001b[0mlevels\u001b[0m \u001b[0;32mis\u001b[0m \u001b[0;32mNone\u001b[0m \u001b[0;32mor\u001b[0m \u001b[0mcodes\u001b[0m \u001b[0;32mis\u001b[0m \u001b[0;32mNone\u001b[0m\u001b[0;34m:\u001b[0m\u001b[0;34m\u001b[0m\u001b[0;34m\u001b[0m\u001b[0m\n\u001b[1;32m    250\u001b[0m             \u001b[0;32mraise\u001b[0m \u001b[0mTypeError\u001b[0m\u001b[0;34m(\u001b[0m\u001b[0;34m\"Must pass both levels and codes\"\u001b[0m\u001b[0;34m)\u001b[0m\u001b[0;34m\u001b[0m\u001b[0;34m\u001b[0m\u001b[0m\n\u001b[0;32m--> 251\u001b[0;31m         \u001b[0;32mif\u001b[0m \u001b[0mlen\u001b[0m\u001b[0;34m(\u001b[0m\u001b[0mlevels\u001b[0m\u001b[0;34m)\u001b[0m \u001b[0;34m!=\u001b[0m \u001b[0mlen\u001b[0m\u001b[0;34m(\u001b[0m\u001b[0mcodes\u001b[0m\u001b[0;34m)\u001b[0m\u001b[0;34m:\u001b[0m\u001b[0;34m\u001b[0m\u001b[0;34m\u001b[0m\u001b[0m\n\u001b[0m\u001b[1;32m    252\u001b[0m             \u001b[0;32mraise\u001b[0m \u001b[0mValueError\u001b[0m\u001b[0;34m(\u001b[0m\u001b[0;34m\"Length of levels and codes must be the same.\"\u001b[0m\u001b[0;34m)\u001b[0m\u001b[0;34m\u001b[0m\u001b[0;34m\u001b[0m\u001b[0m\n\u001b[1;32m    253\u001b[0m         \u001b[0;32mif\u001b[0m \u001b[0mlen\u001b[0m\u001b[0;34m(\u001b[0m\u001b[0mlevels\u001b[0m\u001b[0;34m)\u001b[0m \u001b[0;34m==\u001b[0m \u001b[0;36m0\u001b[0m\u001b[0;34m:\u001b[0m\u001b[0;34m\u001b[0m\u001b[0;34m\u001b[0m\u001b[0m\n",
      "\u001b[0;31mTypeError\u001b[0m: object of type 'builtin_function_or_method' has no len()"
     ]
    }
   ],
   "source": [
    "pd.MultiIndex.from_product(stats)"
   ]
  },
  {
   "cell_type": "code",
   "execution_count": 244,
   "metadata": {},
   "outputs": [],
   "source": [
    "#pd.MultiIndex.from_tuples(\n",
    "vv = [ product(suite, list(title)) for suite in stats.keys() for title in [stats[suite].keys()] ]"
   ]
  },
  {
   "cell_type": "code",
   "execution_count": 245,
   "metadata": {},
   "outputs": [
    {
     "data": {
      "text/plain": [
       "[<itertools.product at 0x7f8530473d38>,\n",
       " <itertools.product at 0x7f85304731f8>,\n",
       " <itertools.product at 0x7f8530473fc0>,\n",
       " <itertools.product at 0x7f8530473c60>,\n",
       " <itertools.product at 0x7f85304730d8>,\n",
       " <itertools.product at 0x7f8530473480>]"
      ]
     },
     "execution_count": 245,
     "metadata": {},
     "output_type": "execute_result"
    }
   ],
   "source": [
    "pd.MultiIndex.from_product"
   ]
  },
  {
   "cell_type": "code",
   "execution_count": 102,
   "metadata": {},
   "outputs": [],
   "source": [
    "#bzz['plufy'] = bzz['data'].map(lambda x: 5*x)\n",
    "#bzz"
   ]
  },
  {
   "cell_type": "code",
   "execution_count": 44,
   "metadata": {},
   "outputs": [],
   "source": [
    "a='a';b='b';c='c';d='d'\n",
    "bzz = pd.DataFrame.from_dict(data={(a,a):{'data': 1},(a,b):{'data': 2},(a,c):{'data': 3},(b,a):{'data': 4},(b,b):{'data': 5},(c,a):{'data': 6},(d,d):{'data': 7}}, orient='index')"
   ]
  },
  {
   "cell_type": "code",
   "execution_count": 205,
   "metadata": {},
   "outputs": [
    {
     "data": {
      "text/plain": [
       "dict_keys(['instcount_number_of_load_insts_x_instcount_number_of_store_insts', 'instcount_number_of_instructions_of_all_types_x_instcount_number_of_basic_blocks', 'varcounter_number_of_variable_uses_using_getnumuses_x_varcounter_number_of_named_variables', 'edgecounter_number_of_edges_x_instcount_number_of_basic_blocks'])"
      ]
     },
     "execution_count": 205,
     "metadata": {},
     "output_type": "execute_result"
    }
   ],
   "source": [
    "[x for x in stats.values()][0].keys()"
   ]
  },
  {
   "cell_type": "code",
   "execution_count": null,
   "metadata": {},
   "outputs": [],
   "source": [
    "q25, q75 = df['instcount::Number_of_instructions_(of_all_types)'].quantile([0.25, 0.75])"
   ]
  },
  {
   "cell_type": "markdown",
   "metadata": {},
   "source": [
    "<br><div style=\"border:none;width:100%;height:4px;color:#000;background-color:#000;\"></div>\n",
    "# <center> T-test </center>"
   ]
  },
  {
   "cell_type": "code",
   "execution_count": 101,
   "metadata": {
    "scrolled": true
   },
   "outputs": [],
   "source": [
    "#plt.rcParams['figure.figsize']  = (12, 8)\n",
    "#plt.rcParams['font.size']       = 22\n",
    "#\n",
    "#plt.subplots_adjust(hspace=0.5)\n",
    "#cnt = 0\n",
    "#for suite in df.index.unique(0):\n",
    "#    charts[suite] = {}\n",
    "#    for sx, sy in plotfeatures:\n",
    "#        if sx + '_x_' + sy not in charts[suite]:\n",
    "#            charts[suite][sx + '_x_' + sy] = {}\n",
    "#        \n",
    "#        fx = np.array(df.loc[suite][sx]).reshape(-1, 1)\n",
    "#        fy = np.array(df.loc[suite][sy])\n",
    "#        \n",
    "#        # arrange plots in a grid\n",
    "#        #ax = plt.subplot(len(df.index.unique(0)) * 2, 2, cnt + 1)\n",
    "#        ax = plt.subplot()\n",
    "#        \n",
    "#        # scatter\n",
    "#        ax.plot(fx, fy, '.r', lw=0.1)\n",
    "#\n",
    "#        # diagonal\n",
    "#        x = np.linspace(0, np.max(fx))\n",
    "#        y = x\n",
    "#        ax.plot(x, y, '-k', lw=0.5)\n",
    "#\n",
    "#        # suite linear regression\n",
    "#        regr = linear_model.LinearRegression()\n",
    "#        regr.fit(fx, fy)\n",
    "#        fx = np.append(np.array([[0]]), fx)    # 0 avoids a cropped line starting late\n",
    "#        y = fx * regr.coef_ + regr.intercept_  # y = ax + b\n",
    "#        suite_reg_plot = ax.plot(fx, y, '-b', lw=1, label='{}'.format(suite))\n",
    "#        #charts[suite][sx + '_x_' + sy]['x_suite'] = fx\n",
    "#        charts[suite][sx + '_x_' + sy]['y_suite'] = y\n",
    "#\n",
    "#        # tf regression for reference\n",
    "#        y = fx * tf_regr[(sx, sy)]['coef'] + tf_regr[(sx, sy)]['intercept']\n",
    "#        tf_reg_plot = ax.plot(fx, y, '-m', lw=1, label='tf')\n",
    "#        charts[suite][sx + '_x_' + sy]['y_tf'] = y\n",
    "#        \n",
    "#        # line legends. without a title, this is what identifies the plots\n",
    "#        handles, labels = ax.get_legend_handles_labels()\n",
    "#        ax.legend(handles[::-1], labels[::-1])\n",
    "#        \n",
    "#        # line info (slope, angle, etc)\n",
    "#        ax.text(0.01, 1.05, 'Suite ∠ x: {: >6.2f}\\nSuite ∠ tf: {: >6.2f}'.format( np.arctan(regr.coef_[0])*(180/np.pi), np.arctan(tf_regr[(sx, sy)]['coef'][0] - regr.coef_[0])*(180/np.pi)), ha='left', transform=ax.transAxes)\n",
    "#        ax.text(0.99, 1.05, 'Suite slope: {: >6.3f}\\ntf slope: {: >6.3f}'.format( regr.coef_[0], tf_regr[(sx, sy)]['coef'][0] ), ha='right', transform=ax.transAxes)\n",
    "#\n",
    "#        # pretty labels\n",
    "#        ax.set_xlabel(re.sub(r' \\(', '\\n(', re.sub('_', ' ', re.sub('.*::', '', sx))).title())\n",
    "#        ax.set_ylabel(re.sub(r' \\(', '\\n(', re.sub('_', ' ', re.sub('.*::', '', sy))).title())\n",
    "#        \n",
    "#        cnt += 1  # need this for subplot management and (if desired) naming plots\n",
    "#        charts[suite][sx + '_x_' + sy]['figure'] = copy(ax)\n",
    "#        #plt.savefig('data/img/{}_{}.png'.format(suite, (cnt % 4) + 1), format='png')  # individual figures\n",
    "#        plt.close()  # individual figures\n",
    "#        \n",
    "##plt.savefig('data/all.png', format='png')\n",
    "##plt.show()\n",
    "#print('done')"
   ]
  },
  {
   "cell_type": "code",
   "execution_count": null,
   "metadata": {},
   "outputs": [],
   "source": [
    "X_TF = list of every ratio \"number of variables\"/\"number of uses\" per program in TF.\n",
    "X_An = same thing, but for Angha."
   ]
  },
  {
   "cell_type": "code",
   "execution_count": null,
   "metadata": {},
   "outputs": [],
   "source": [
    "class Point2d:\n",
    "    def __init__(self, vx=0, vy=0):\n",
    "        self.x = vx\n",
    "        self.y = vy\n",
    "    def __add__(self, other):\n",
    "        return Point2d(self.x + other.x, self.y + other.y)\n",
    "    def __str__(self):\n",
    "        return '({}, {})'.format(self.x, self.y)"
   ]
  },
  {
   "cell_type": "markdown",
   "metadata": {},
   "source": [
    "[//]: # (<br><div style=\"border:none;width:100%;height:4px;color:#000;background-color:#000;\"></div>)\n",
    "[//]: # (# <center> Median/Quantile feature plots </center>)"
   ]
  },
  {
   "cell_type": "code",
   "execution_count": null,
   "metadata": {},
   "outputs": [],
   "source": [
    "#----------------- Median/Quantile -----------------#\n",
    "# Wanna implement it so that the plots are prettier.\n",
    "# Currently the outliers stretch the axis' too much.\n",
    "#----------------- Unfinished work -----------------#\n",
    "\n",
    "#quantile_pct=1\n",
    "#qntl = 0.5\n",
    "#suite = 'tf'\n",
    "#colname = 'instcount::Number_of_Load_insts'\n",
    "#df.loc[suite][df.loc[suite][colname] <= df.loc[suite][colname].quantile(qntl)][colname]\n",
    "\n",
    "##df_med = df.loc[suite][df.loc[suite][sx] <= df.loc[suite][sx].quantile(quantile_pct)]\n",
    "##fxm = np.array(df_med[sx]).reshape(-1, 1)\n",
    "##fym = np.array(df_med[sy])\n",
    "#\n",
    "#fx = np.array(df.loc[suite][sx]).reshape(-1, 1)\n",
    "#fy = np.array(df.loc[suite][sy])\n",
    "#\n",
    "#plt.xlabel(sx)\n",
    "#plt.ylabel(sy)\n",
    "#\n",
    "## scatter\n",
    "#plt.plot(fx, fy, '.r', lw=0.1)  # plt.plot(fxm, fym, '.r', lw=0.1)\n",
    "#\n",
    "## diagonal\n",
    "#x = np.linspace(0, np.max(fx))  # x = np.linspace(0, np.max(fxm))\n",
    "#y = x\n",
    "#plt.plot(x, y, '-k', lw=0.5)"
   ]
  }
 ],
 "metadata": {
  "kernelspec": {
   "display_name": "Python 3",
   "language": "python",
   "name": "python3"
  },
  "language_info": {
   "codemirror_mode": {
    "name": "ipython",
    "version": 3
   },
   "file_extension": ".py",
   "mimetype": "text/x-python",
   "name": "python",
   "nbconvert_exporter": "python",
   "pygments_lexer": "ipython3",
   "version": "3.6.8"
  }
 },
 "nbformat": 4,
 "nbformat_minor": 2
}
